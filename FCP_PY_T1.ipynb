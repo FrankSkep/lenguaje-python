{
  "nbformat": 4,
  "nbformat_minor": 0,
  "metadata": {
    "colab": {
      "provenance": []
    },
    "kernelspec": {
      "name": "python3",
      "display_name": "Python 3"
    },
    "language_info": {
      "name": "python"
    }
  },
  "cells": [
    {
      "cell_type": "markdown",
      "source": [
        "\n",
        "# <div align=\"center\"> Lenguaje de programacion Python </div><h4 align=\"center\">Taller 1 - Diccionarios, Listas </h4><h4 align=\"center\">Cornejo Pacheco Francisco - 375037</h4><h4 align=\"center\">Profesor : Pedro Nuñez Yepiz</h4><h4 align=\"center\">08 - Oct - 2024</h4><h4> Repositorio: https://github.com/FrankSkep/Lenguaje_Python </h4>"
      ],
      "metadata": {
        "id": "0M8XxlQfPeoK"
      }
    },
    {
      "cell_type": "markdown",
      "source": [
        "## Funciones para validar numeros"
      ],
      "metadata": {
        "id": "_dMFwFDjCRvi"
      }
    },
    {
      "cell_type": "code",
      "source": [
        "# Verifica que se ingrese un valor numerico, si no se proporciona tipo, sera int\n",
        "def getNum(msg, tipo = int):\n",
        "    while True:\n",
        "        try:\n",
        "            return tipo(input(msg))\n",
        "        except ValueError:\n",
        "            print(f\"Error: Ingresa un numero {tipo.__name__} valido.\")\n",
        "\n",
        "# Verifica que se ingrese un valor numerico de cualquier tipo en un rango\n",
        "def getNumInRange(msg, ri, rf, tipo = int):\n",
        "    while True:\n",
        "        try:\n",
        "            num = tipo(input(msg))\n",
        "            if num >= ri and num <= rf:\n",
        "                return num\n",
        "            else:\n",
        "                print(\"Error: Ingresa un numero dentro del rango.\")\n",
        "        except ValueError:\n",
        "            print(f\"Error: Ingresa un numero {tipo.__name__} valido.\")"
      ],
      "metadata": {
        "id": "kaSbyiQ9CY5f"
      },
      "execution_count": 1,
      "outputs": []
    },
    {
      "cell_type": "markdown",
      "source": [
        "## Ejercicio\n",
        "CREAR DICCIIONARIO: funcion que retorne un diccionario con los datos de\n",
        "basicos de un alumno, donde se pide {id,nombre (1 O 2) ,\n",
        "appaterno,apmaterno, edad,sexo}, El diccionario se debe generar\n",
        "automaticmanete a partir de listas."
      ],
      "metadata": {
        "id": "iT397nLD6NTd"
      }
    },
    {
      "cell_type": "code",
      "execution_count": 4,
      "metadata": {
        "colab": {
          "base_uri": "https://localhost:8080/"
        },
        "id": "4jBvT9QY4rdM",
        "outputId": "ec06ec0c-c818-4378-9ccc-23a418611d48"
      },
      "outputs": [
        {
          "output_type": "stream",
          "name": "stdout",
          "text": [
            "1. Crear diccionario\n",
            "2. Imprimir diccionario\n",
            "0. Salir\n",
            "> : 1\n",
            "\n",
            "1. Automatico - 2. Manual: 1\n",
            "\n",
            "Diccionario creado exitosamente.\n",
            "\n",
            "1. Crear diccionario\n",
            "2. Imprimir diccionario\n",
            "0. Salir\n",
            "> : 2\n",
            "\n",
            "id : 382886\n",
            "nombres : Maria\n",
            "appaterno : Rodriguez\n",
            "apmaterno : Perez\n",
            "edad : 24\n",
            "sexo : Femenino\n",
            "\n",
            "1. Crear diccionario\n",
            "2. Imprimir diccionario\n",
            "0. Salir\n",
            "> : 1\n",
            "\n",
            "1. Automatico - 2. Manual: 2\n",
            "ID: 375037\n",
            "Nombres: Francisco\n",
            "Apellido paterno: Cornejo\n",
            "Apellido materno: Pacheco\n",
            "Edad [16-29]: 22\n",
            "Sexo [0. Masculino - 1. Femenino]: 0\n",
            "\n",
            "Diccionario creado exitosamente.\n",
            "\n",
            "1. Crear diccionario\n",
            "2. Imprimir diccionario\n",
            "0. Salir\n",
            "> : 2\n",
            "\n",
            "id : 375037\n",
            "nombres : Francisco\n",
            "appaterno : Cornejo\n",
            "apmaterno : Pacheco\n",
            "edad : 22\n",
            "sexo : Masculino\n",
            "\n",
            "1. Crear diccionario\n",
            "2. Imprimir diccionario\n",
            "0. Salir\n",
            "> : 0\n",
            "\n"
          ]
        }
      ],
      "source": [
        "import random\n",
        "\n",
        "# Crea un diccionario a partir de una lista recibida\n",
        "def crearDiccionarioAuto(datos):\n",
        "    alumno = dict()\n",
        "    campos = ['id', 'nombres', 'appaterno', 'apmaterno', 'edad', 'sexo']\n",
        "    for indice, campo in enumerate(campos):\n",
        "        alumno[campo] = datos[indice]\n",
        "    return alumno\n",
        "\n",
        "# Crea un diccionario con las entradas del usuario\n",
        "def crearDiccionarioManual():\n",
        "    alumno = dict()\n",
        "    alumno['id'] = getNumInRange(\"ID: \", 30000, 399999)\n",
        "    alumno['nombres'] = input(\"Nombres: \")\n",
        "    alumno['appaterno'] = input(\"Apellido paterno: \")\n",
        "    alumno['apmaterno'] = input(\"Apellido materno: \")\n",
        "    alumno['edad'] = getNumInRange(\"Edad [16-29]: \", 16, 29)\n",
        "    alumno['sexo'] = 'Masculino' if getNumInRange(\"Sexo [0. Masculino - 1. Femenino]: \", 0, 1) == 0 else 'Femenino'\n",
        "    return alumno\n",
        "\n",
        "# Imprime diccionario en forma de registro\n",
        "def printDict(diccionario):\n",
        "    for clave, valor in diccionario.items():\n",
        "        print(f\"{clave} : {valor}\")\n",
        "\n",
        "# Retorna una lista con datos generados aleatoriamente\n",
        "def generarDatos():\n",
        "    nombres = ['Maria', 'Francisco','Melany', 'Raul', 'Renata', 'Jesus']\n",
        "    apellidos = ['Martinez', 'Gonzalez', 'Juarez', 'Perez', 'Maldonado', 'Rodriguez']\n",
        "\n",
        "    nom_indice = random.randint(0, len(nombres) - 1)\n",
        "    sexo = 'Masculino' if nom_indice % 2 != 0 else 'Femenino'\n",
        "\n",
        "    return [random.randint(300000, 399999), nombres[nom_indice], apellidos[random.randint(0, len(apellidos) - 1)],\n",
        "            apellidos[random.randint(0, len(apellidos) - 1)], random.randint(16, 29), sexo]\n",
        "\n",
        "def menu():\n",
        "    print(\"1. Crear diccionario\")\n",
        "    print(\"2. Imprimir diccionario\")\n",
        "    print(\"0. Salir\")\n",
        "    opcion = getNum(\"> : \")\n",
        "    return opcion\n",
        "\n",
        "if __name__ == '__main__':\n",
        "    alumno = dict()\n",
        "    while True:\n",
        "        opcion = menu()\n",
        "        print()\n",
        "        if opcion == 1:\n",
        "            if getNumInRange(\"1. Automatico - 2. Manual: \", 1, 2) == 1:\n",
        "                alumno = crearDiccionarioAuto(generarDatos())\n",
        "            else:\n",
        "                alumno = crearDiccionarioManual()\n",
        "            print()\n",
        "            print(\"Diccionario creado exitosamente.\")\n",
        "        elif opcion == 2:\n",
        "            printDict(alumno)\n",
        "        elif opcion == 0:\n",
        "            break\n",
        "        else:\n",
        "            print(\"Opcion no valida.\")\n",
        "        print()"
      ]
    }
  ]
}