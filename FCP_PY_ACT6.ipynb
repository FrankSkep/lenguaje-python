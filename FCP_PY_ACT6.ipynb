{
  "nbformat": 4,
  "nbformat_minor": 0,
  "metadata": {
    "colab": {
      "provenance": []
    },
    "kernelspec": {
      "name": "python3",
      "display_name": "Python 3"
    },
    "language_info": {
      "name": "python"
    }
  },
  "cells": [
    {
      "cell_type": "markdown",
      "source": [
        "# <div align=\"center\"> Lenguaje de programacion Python </div>\n",
        "<h4 align=\"center\">Actividad 6 - Listas, Diccionarios </h4>\n",
        "<h4 align=\"center\">Cornejo Pacheco Francisco - 375037</h4><h4 align=\"center\">Profesor : Pedro Nuñez Yepiz</h4>\n",
        "<h4 align=\"center\">12 - OCT - 2024</h4>\n",
        "<h4>Repositorio: https://github.com/FrankSkep/Lenguaje-Python</h4>"
      ],
      "metadata": {
        "id": "SbdPZ6dn0Wt-"
      }
    },
    {
      "cell_type": "markdown",
      "source": [
        "## Ejercicio\n",
        "\n",
        "REALIZA UN PROGRAMA QUE UTILICE UNA LISTA DE DICCIONARIOS\n",
        "\n",
        "MENU\n",
        "1. Agregar (automático)\n",
        "2. Agregar (manual)\n",
        "3. Imprimir lista\n",
        "4. Buscar {ID}\n",
        "5. Ordenar\n",
        "6. Eliminar {ID}\n",
        "7. Borrar Toda la lista\n",
        "0. SALIR\n",
        "- NOTA: Los datos del diccionario son los datos básicos de un trabajador de una fábrica.\n",
        "- NOTA 2: VALIDAR EL PROGRAMA 100%\n",
        "\n",
        "- Preguntar siempre si esta seguro eliminar, No ordenar si ya esta Ordenado, decir si lista vacía, no existe o mostrar si está la búsqueda, No se permiten ID repetidos."
      ],
      "metadata": {
        "id": "UsCzSGB8z229"
      }
    },
    {
      "cell_type": "markdown",
      "source": [
        "## Funciones utilitarias"
      ],
      "metadata": {
        "id": "qB16K3Di9eW4"
      }
    },
    {
      "cell_type": "code",
      "source": [
        "import random\n",
        "\n",
        "NOMBRES = {\n",
        "    'HOMBRE': ['JOSE', 'RAUL', 'JUAN', 'PEDRO', 'GERARDO', 'GABRIEL', 'EDWIN', 'ABRAHAM', 'ANDRES', 'DIEGO'],\n",
        "    'MUJER': ['MARIA', 'ANA', 'LAURA', 'LUISA', 'SOFIA', 'ISABEL', 'CARMEN', 'ROSA', 'ELENA', 'LUCIA']\n",
        "}\n",
        "APELLIDOS = ['FUENTES', 'GARZA', 'LOPEZ', 'ANAYA', 'CEVALLOS', 'GARCIA','MOLINA', 'CARDENAS', 'PEREZ']\n",
        "PUESTOS = ['PATRON', 'GERENTE', 'SUPERVISOR', 'DESARROLLADOR', 'DISEÑADOR']\n",
        "\n",
        "# F. de orden superior para generar id unico, tanto aleatorio como manual\n",
        "def generar_id_unico(empleados, gen_id, feedback=False):\n",
        "    id = gen_id()\n",
        "    while busq_secuencial(empleados, id) != -1:\n",
        "        if feedback:\n",
        "            print(f\"El ID {id} ya se encuentra registrado, ingrese otro.\")\n",
        "        id = gen_id()\n",
        "    return id\n",
        "\n",
        "# genera un nombre basado en el sexo\n",
        "def generar_nombre(sexo):\n",
        "    return random.choice(NOMBRES[sexo])\n",
        "\n",
        "# genera appat y apmat\n",
        "def generar_apellidos():\n",
        "    return random.choice(APELLIDOS), random.choice(APELLIDOS)\n",
        "\n",
        "# genera un puesto de trabajo, aleatoriamente o manual\n",
        "def generar_puesto(indice = None):\n",
        "    if indice == None:\n",
        "        return random.choice(PUESTOS)\n",
        "    else:\n",
        "        return PUESTOS[indice]\n",
        "\n",
        "def imprimir_registro(empl):\n",
        "    print(\"---- DATOS ----\")\n",
        "    for clave, valor in empl.items():\n",
        "        print(f\"{clave} : {valor}\")\n",
        "\n",
        "def esta_ordenada(lista):\n",
        "    return all(lista[i]['id'] <= lista[i+1]['id'] for i in range(len(lista)-1))\n",
        "\n",
        "def busq_secuencial(lista, id):\n",
        "    for i, item in enumerate(lista):\n",
        "        if item['id'] == id:\n",
        "            return i\n",
        "    return -1\n",
        "\n",
        "def gen_num_aleatorio(ri, rf):\n",
        "    return random.randint(ri, rf)\n",
        "\n",
        "# Verifica que se ingrese un valor numerico, si no se proporciona tipo, sera int\n",
        "def get_num(msg, tipo = int):\n",
        "    while True:\n",
        "        try:\n",
        "            return tipo(input(msg))\n",
        "        except ValueError:\n",
        "            print(f\"Error: Ingresa un numero {tipo.__name__} valido.\")\n",
        "\n",
        "# Verifica que se ingrese un valor numerico de cualquier tipo en un rango\n",
        "def get_num_in_range(msg, ri, rf, tipo = int):\n",
        "    while True:\n",
        "        try:\n",
        "            num = tipo(input(msg))\n",
        "            if num >= ri and num <= rf:\n",
        "                return num\n",
        "            else:\n",
        "                print(\"Error: Ingresa un numero dentro del rango.\")\n",
        "        except ValueError:\n",
        "            print(f\"Error: Ingresa un numero {tipo.__name__} valido.\")\n",
        "\n",
        "def menu():\n",
        "    print(\"+--- MENU ACCIONES ---+\")\n",
        "    print(\"1. Agregar (AUTO)\")\n",
        "    print(\"2. Agregar (MANUAL)\")\n",
        "    print(\"3. Imprimir lista\")\n",
        "    print(\"4. Buscar\")\n",
        "    print(\"5. Ordenar\")\n",
        "    print(\"6. Eliminar\")\n",
        "    print(\"7. Borrar la lista\")\n",
        "    print(\"8. Salir\")\n",
        "    return get_num_in_range(\"> : \", 1, 8)"
      ],
      "metadata": {
        "id": "NORBENgF9PXI"
      },
      "execution_count": 13,
      "outputs": []
    },
    {
      "cell_type": "markdown",
      "source": [
        "## 1. Agregar (automatico)\n"
      ],
      "metadata": {
        "id": "ziVKENGAwQVx"
      }
    },
    {
      "cell_type": "code",
      "source": [
        "def agregar_automatico(empleados):\n",
        "    id = generar_id_unico(empleados, lambda: gen_num_aleatorio(300000, 399999))\n",
        "    sexo = random.choice(['HOMBRE', 'MUJER'])\n",
        "    nombre = generar_nombre(sexo)\n",
        "    apPat, apMat = generar_apellidos()\n",
        "    edad = random.randint(8, 65)\n",
        "    puesto = generar_puesto()\n",
        "    empleados.append({'id': id, 'nombre':nombre, 'apPat':apPat, 'apMat':apMat,\n",
        "                      'sexo':sexo, 'edad':edad, 'puesto':puesto})\n",
        "    print(\"Empleado agregado.\")"
      ],
      "metadata": {
        "id": "lbGm2FRSz4Mn"
      },
      "execution_count": 14,
      "outputs": []
    },
    {
      "cell_type": "markdown",
      "source": [
        "## 2. Agregar manual"
      ],
      "metadata": {
        "id": "shchXhUm9AoZ"
      }
    },
    {
      "cell_type": "code",
      "source": [
        "def agregar_manual(empleados):\n",
        "    empleado = dict()\n",
        "    empleado['id'] = generar_id_unico(empleados, lambda: get_num_in_range(\"Ingresa ID: \", 300000, 399999), feedback=True)\n",
        "    empleado['nombre'] = input(\"Ingresa nombres: \").upper()\n",
        "    empleado['apPat'] = input(\"Ingresa apellido paterno: \").upper()\n",
        "    empleado['apMat'] = input(\"Ingresa apellido materno: \").upper()\n",
        "    empleado['sexo'] = 'HOMBRE' if get_num_in_range(\"Sexo [1. Hombre - 2. Mujer]: \", 1, 2) == 1 else 'MUJER'\n",
        "    empleado['edad'] = get_num_in_range(\"Ingresa edad: \", 8, 65)\n",
        "    print(f\"Puestos: '1.PATRON', '2.GERENTE', '3.SUPERVISOR', '4.DESARROLLADOR', '5.DISEÑADOR'\")\n",
        "    empleado['puesto'] = generar_puesto(get_num_in_range(f\"Ingresa puesto (1-5): \", 1, 5) - 1)\n",
        "    empleados.append(empleado)\n",
        "    print(\"Empleado agregado.\")"
      ],
      "metadata": {
        "id": "zvifWCMO4ibK"
      },
      "execution_count": 15,
      "outputs": []
    },
    {
      "cell_type": "markdown",
      "source": [
        "## 3. Imprimir lista"
      ],
      "metadata": {
        "id": "QnI8y6CqBNXz"
      }
    },
    {
      "cell_type": "code",
      "source": [
        "def imprimir_todo(empleados):\n",
        "    if empleados:\n",
        "        print(f\"  ID       NOMBRE        APPAT         APMAT          SEXO     EDAD      PUESTO\")\n",
        "        print('-' * 82)  # linea divisora\n",
        "\n",
        "        for empl in empleados:\n",
        "            print(f\"{empl['id']:^8d}\", end='')\n",
        "            print(f\"{empl['nombre']:^12s}  \", end='')\n",
        "            print(f\"{empl['apPat']:^12s}  \", end='')\n",
        "            print(f\"{empl['apMat']:^12s}   \", end='')\n",
        "            print(f\"{empl['sexo']:^10s}  \", end='')\n",
        "            print(f\"{empl['edad']:^4d}  \", end='')\n",
        "            print(f\"{empl['puesto']:^14s}\")\n",
        "    else:\n",
        "        print(\"La lista esta vacia.\")"
      ],
      "metadata": {
        "id": "Qy15cqsbAuKu"
      },
      "execution_count": 16,
      "outputs": []
    },
    {
      "cell_type": "markdown",
      "source": [
        "## 4. Buscar {ID}"
      ],
      "metadata": {
        "id": "E7tEl8EklypX"
      }
    },
    {
      "cell_type": "code",
      "source": [
        "def buscar(empleados):\n",
        "    id = get_num_in_range(\"Ingresa ID a buscar: \", 300000, 399999)\n",
        "    indice = busq_secuencial(empleados, id)\n",
        "    if indice != -1:\n",
        "        print(f\"Empleado encontrado en la posicion : {indice}\")\n",
        "        imprimir_registro(empleados[indice])\n",
        "    else:\n",
        "        print(f\"No se encontro el empleado con ID {id}\")"
      ],
      "metadata": {
        "id": "yspwHDSEl3RW"
      },
      "execution_count": 17,
      "outputs": []
    },
    {
      "cell_type": "markdown",
      "source": [
        "## 5. Ordenar"
      ],
      "metadata": {
        "id": "kQuS5fN7nds3"
      }
    },
    {
      "cell_type": "code",
      "source": [
        "def ordenar(empleados):\n",
        "    if not esta_ordenada(empleados):\n",
        "        empleados.sort(key=lambda x: x['id'])\n",
        "        print(\"Se ha ordenado la lista.\")\n",
        "    else:\n",
        "        print(\"No se ordeno, ya estaba ordenada.\")"
      ],
      "metadata": {
        "id": "OCrKZAr5nfjH"
      },
      "execution_count": 18,
      "outputs": []
    },
    {
      "cell_type": "markdown",
      "source": [
        "## 6. Eliminar"
      ],
      "metadata": {
        "id": "EgpfxWfYnp0n"
      }
    },
    {
      "cell_type": "code",
      "source": [
        "def eliminar(empleados):\n",
        "    id = get_num_in_range(\"Ingresa ID a eliminar: \", 300000, 399999)\n",
        "    indice = busq_secuencial(empleados, id)\n",
        "\n",
        "    if indice != -1:\n",
        "        print(f\"Empleado encontrado en la posicion : {indice}\")\n",
        "        imprimir_registro(empleados[indice])\n",
        "        if get_num_in_range(\"¿Desea eliminar? (1.Si - 2.No): \", 1, 2) == 1:\n",
        "            empleados.pop(indice)\n",
        "            print(f\"Empleado eliminado.\")\n",
        "    else:\n",
        "        print(f\"No se encontro el empleado con ID {id}\")"
      ],
      "metadata": {
        "id": "6Wbs7nksnsbv"
      },
      "execution_count": 19,
      "outputs": []
    },
    {
      "cell_type": "markdown",
      "source": [
        "## 7. Borrar toda la lista"
      ],
      "metadata": {
        "id": "4PnaEUaeBVtY"
      }
    },
    {
      "cell_type": "code",
      "source": [
        "def limpiar_lista(lista):\n",
        "    if get_num_in_range(\"¿Seguro que desea eliminar la lista?: (1.Si - 2.No) : \", 1, 2) == 1:\n",
        "        lista.clear()\n",
        "        print(\"Se ha borrado la lista.\")"
      ],
      "metadata": {
        "id": "XRvF7xv9BYH_"
      },
      "execution_count": 20,
      "outputs": []
    },
    {
      "cell_type": "markdown",
      "source": [
        "## Main"
      ],
      "metadata": {
        "id": "E4rKnRmqCJEb"
      }
    },
    {
      "cell_type": "code",
      "source": [
        "if __name__ == '__main__':\n",
        "    empleados = []\n",
        "\n",
        "    # {numero de opcion : referencia a su funcion}\n",
        "    acciones = {\n",
        "        1: agregar_automatico,\n",
        "        2: agregar_manual,\n",
        "        3: imprimir_todo,\n",
        "        4: buscar,\n",
        "        5: ordenar,\n",
        "        6: eliminar,\n",
        "        7: limpiar_lista\n",
        "    }\n",
        "\n",
        "    while True:\n",
        "        opcion = menu()\n",
        "        print()\n",
        "        if opcion in acciones:\n",
        "            acciones[opcion](empleados)\n",
        "        else:\n",
        "            print(\"Has salido.\")\n",
        "            break\n",
        "        print()"
      ],
      "metadata": {
        "colab": {
          "base_uri": "https://localhost:8080/"
        },
        "id": "kgF6WaCUBPKa",
        "outputId": "1b988f98-5c3e-49d7-e47d-c76e8d1a3618"
      },
      "execution_count": 23,
      "outputs": [
        {
          "output_type": "stream",
          "name": "stdout",
          "text": [
            "+--- MENU ACCIONES ---+\n",
            "1. Agregar (AUTO)\n",
            "2. Agregar (MANUAL)\n",
            "3. Imprimir lista\n",
            "4. Buscar\n",
            "5. Ordenar\n",
            "6. Eliminar\n",
            "7. Borrar la lista\n",
            "8. Salir\n",
            "> : 3\n",
            "\n",
            "La lista esta vacia.\n",
            "\n",
            "+--- MENU ACCIONES ---+\n",
            "1. Agregar (AUTO)\n",
            "2. Agregar (MANUAL)\n",
            "3. Imprimir lista\n",
            "4. Buscar\n",
            "5. Ordenar\n",
            "6. Eliminar\n",
            "7. Borrar la lista\n",
            "8. Salir\n",
            "> : 1\n",
            "\n",
            "Empleado agregado.\n",
            "\n",
            "+--- MENU ACCIONES ---+\n",
            "1. Agregar (AUTO)\n",
            "2. Agregar (MANUAL)\n",
            "3. Imprimir lista\n",
            "4. Buscar\n",
            "5. Ordenar\n",
            "6. Eliminar\n",
            "7. Borrar la lista\n",
            "8. Salir\n",
            "> : 3\n",
            "\n",
            "  ID       NOMBRE        APPAT         APMAT          SEXO     EDAD      PUESTO\n",
            "----------------------------------------------------------------------------------\n",
            " 326683   GERARDO        PEREZ        CEVALLOS       HOMBRE     54     SUPERVISOR  \n",
            "\n",
            "+--- MENU ACCIONES ---+\n",
            "1. Agregar (AUTO)\n",
            "2. Agregar (MANUAL)\n",
            "3. Imprimir lista\n",
            "4. Buscar\n",
            "5. Ordenar\n",
            "6. Eliminar\n",
            "7. Borrar la lista\n",
            "8. Salir\n",
            "> : 2\n",
            "\n",
            "Ingresa ID: 326683\n",
            "El ID 326683 ya se encuentra registrado, ingrese otro.\n",
            "Ingresa ID: 312343\n",
            "Ingresa nombres: frank\n",
            "Ingresa apellido paterno: cornejo\n",
            "Ingresa apellido materno: pacheco\n",
            "Sexo [1. Hombre - 2. Mujer]: 1\n",
            "Ingresa edad: 22\n",
            "Puestos: '1.PATRON', '2.GERENTE', '3.SUPERVISOR', '4.DESARROLLADOR', '5.DISEÑADOR'\n",
            "Ingresa puesto (1-5): 4\n",
            "Empleado agregado.\n",
            "\n",
            "+--- MENU ACCIONES ---+\n",
            "1. Agregar (AUTO)\n",
            "2. Agregar (MANUAL)\n",
            "3. Imprimir lista\n",
            "4. Buscar\n",
            "5. Ordenar\n",
            "6. Eliminar\n",
            "7. Borrar la lista\n",
            "8. Salir\n",
            "> : 5\n",
            "\n",
            "Se ha ordenado la lista.\n",
            "\n",
            "+--- MENU ACCIONES ---+\n",
            "1. Agregar (AUTO)\n",
            "2. Agregar (MANUAL)\n",
            "3. Imprimir lista\n",
            "4. Buscar\n",
            "5. Ordenar\n",
            "6. Eliminar\n",
            "7. Borrar la lista\n",
            "8. Salir\n",
            "> : 5\n",
            "\n",
            "No se ordeno, ya estaba ordenada.\n",
            "\n",
            "+--- MENU ACCIONES ---+\n",
            "1. Agregar (AUTO)\n",
            "2. Agregar (MANUAL)\n",
            "3. Imprimir lista\n",
            "4. Buscar\n",
            "5. Ordenar\n",
            "6. Eliminar\n",
            "7. Borrar la lista\n",
            "8. Salir\n",
            "> : 3\n",
            "\n",
            "  ID       NOMBRE        APPAT         APMAT          SEXO     EDAD      PUESTO\n",
            "----------------------------------------------------------------------------------\n",
            " 312343    FRANK        CORNEJO       PACHECO        HOMBRE     22   DESARROLLADOR \n",
            " 326683   GERARDO        PEREZ        CEVALLOS       HOMBRE     54     SUPERVISOR  \n",
            "\n",
            "+--- MENU ACCIONES ---+\n",
            "1. Agregar (AUTO)\n",
            "2. Agregar (MANUAL)\n",
            "3. Imprimir lista\n",
            "4. Buscar\n",
            "5. Ordenar\n",
            "6. Eliminar\n",
            "7. Borrar la lista\n",
            "8. Salir\n",
            "> : 6\n",
            "\n",
            "Ingresa ID a eliminar: 312343\n",
            "Empleado encontrado en la posicion : 0\n",
            "---- DATOS ----\n",
            "id : 312343\n",
            "nombre : FRANK\n",
            "apPat : CORNEJO\n",
            "apMat : PACHECO\n",
            "sexo : HOMBRE\n",
            "edad : 22\n",
            "puesto : DESARROLLADOR\n",
            "¿Desea eliminar? (1.Si - 2.No): 1\n",
            "Empleado eliminado.\n",
            "\n",
            "+--- MENU ACCIONES ---+\n",
            "1. Agregar (AUTO)\n",
            "2. Agregar (MANUAL)\n",
            "3. Imprimir lista\n",
            "4. Buscar\n",
            "5. Ordenar\n",
            "6. Eliminar\n",
            "7. Borrar la lista\n",
            "8. Salir\n",
            "> : 7\n",
            "\n",
            "¿Seguro que desea eliminar la lista?: (1.Si - 2.No) : 1\n",
            "Se ha borrado la lista.\n",
            "\n",
            "+--- MENU ACCIONES ---+\n",
            "1. Agregar (AUTO)\n",
            "2. Agregar (MANUAL)\n",
            "3. Imprimir lista\n",
            "4. Buscar\n",
            "5. Ordenar\n",
            "6. Eliminar\n",
            "7. Borrar la lista\n",
            "8. Salir\n",
            "> : 3\n",
            "\n",
            "La lista esta vacia.\n",
            "\n",
            "+--- MENU ACCIONES ---+\n",
            "1. Agregar (AUTO)\n",
            "2. Agregar (MANUAL)\n",
            "3. Imprimir lista\n",
            "4. Buscar\n",
            "5. Ordenar\n",
            "6. Eliminar\n",
            "7. Borrar la lista\n",
            "8. Salir\n",
            "> : 8\n",
            "\n",
            "Has salido.\n"
          ]
        }
      ]
    }
  ]
}